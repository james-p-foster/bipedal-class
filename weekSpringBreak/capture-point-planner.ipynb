{
 "cells": [
  {
   "cell_type": "code",
   "execution_count": 2,
   "metadata": {
    "pycharm": {
     "is_executing": true,
     "name": "#%%\n"
    }
   },
   "outputs": [],
   "source": [
    "from typing import *\n",
    "import numpy as np\n",
    "import matplotlib.pyplot as plt\n",
    "import matplotlib.patches as mpatches\n",
    "from matplotlib.collections import PatchCollection\n",
    "from ipywidgets import *\n",
    "%matplotlib inline\n",
    "\n",
    "plt.rcParams['figure.figsize'] = [8, 4]\n",
    "plt.rcParams['figure.dpi'] = 300"
   ]
  },
  {
   "cell_type": "code",
   "execution_count": 3,
   "metadata": {
    "pycharm": {
     "name": "#%%\n"
    }
   },
   "outputs": [],
   "source": [
    "def generate_footsteps(num_steps: int, step_length: float, step_width: float) -> np.ndarray:\n",
    "    # Stored such that each row is a footstep x and y, col 1 = x, col 2 = y.\n",
    "    footstep_locations = np.zeros((num_steps, 2))\n",
    "    # In the x (side-to-side) direction, we want steps to oscillate back and forth with step_width.\n",
    "    footstep_locations[:, 0] = step_width\n",
    "    footstep_locations[1::2, 0] = -step_width\n",
    "    # In the y (forward) direction, we want steps to increase with step_length.\n",
    "    for i in range(1, num_steps):\n",
    "        footstep_locations[i, 1] = step_length * i\n",
    "    return footstep_locations"
   ]
  },
  {
   "cell_type": "code",
   "execution_count": 4,
   "metadata": {
    "pycharm": {
     "name": "#%%\n"
    }
   },
   "outputs": [],
   "source": [
    "def generate_dcm_reference(footstep_locations: np.ndarray, omega: float, step_time: float) -> np.ndarray:\n",
    "    num_steps = footstep_locations.shape[0]\n",
    "    dcm_keypoints = np.zeros((num_steps, 2))\n",
    "    # Because the dcm_keypoints are found by working from the end of the footstep sequence backwards, we'll flip\n",
    "    # the footstep_locations back-to-front so the for loop is nicer.\n",
    "    footstep_locations = np.flip(footstep_locations, 0)\n",
    "    dcm_keypoints[0, :] = footstep_locations[0, :]\n",
    "    for i in range(1, num_steps):\n",
    "        dcm_keypoints[i, :] = footstep_locations[i, :] + np.exp(-omega * step_time) * (dcm_keypoints[i-1, :] - footstep_locations[i, :])\n",
    "    # We've then got to flip our dcm_keypoints to get them in the correct order.\n",
    "    dcm_keypoints = np.flip(dcm_keypoints, 0)\n",
    "    return dcm_keypoints"
   ]
  },
  {
   "cell_type": "code",
   "execution_count": 5,
   "metadata": {
    "pycharm": {
     "name": "#%%\n"
    }
   },
   "outputs": [],
   "source": [
    "def interleave_rows(array1: np.ndarray, array2: np.ndarray) -> np.ndarray:\n",
    "    assert array1.shape == array2.shape\n",
    "    shape = array1.shape\n",
    "    result = np.zeros((2 * shape[0], shape[1]))\n",
    "    for i in range(0, shape[0]):\n",
    "        result[2 * i, :] = array1[i, :]\n",
    "        result[2 * i + 1, :] = array2[i, :]\n",
    "    return result"
   ]
  },
  {
   "cell_type": "code",
   "execution_count": 6,
   "metadata": {
    "pycharm": {
     "name": "#%%\n"
    }
   },
   "outputs": [],
   "source": [
    "def explicit_euler(A: np.ndarray, B: np.ndarray, delta_t: float) -> Tuple[np.ndarray, np.ndarray]:\n",
    "    A_d = A * delta_t + np.eye(A.shape[0])\n",
    "    B_d = B * delta_t\n",
    "    return A_d, B_d"
   ]
  },
  {
   "cell_type": "code",
   "execution_count": 7,
   "metadata": {
    "pycharm": {
     "name": "#%%\n"
    }
   },
   "outputs": [],
   "source": [
    "def generate_system_matrices(omega: float, delta_t: float) -> Tuple[np.ndarray, np.ndarray]:\n",
    "    # stacked x-direction and y-direction systems, e.g. state = [x, y, eta_x, eta_y]\n",
    "    A = np.array([[-omega, 0.0, omega, 0.0],\n",
    "                  [0.0, -omega, 0.0, omega],\n",
    "                  [0.0, 0.0, omega, 0.0],\n",
    "                  [0.0, 0.0, 0.0, omega]])\n",
    "    B = np.array([[0.0, 0.0],\n",
    "                  [0.0, 0.0],\n",
    "                  [-omega, 0.0],\n",
    "                  [0.0, -omega]])\n",
    "    A_d, B_d = explicit_euler(A, B, delta_t)\n",
    "    return A_d, B_d"
   ]
  },
  {
   "cell_type": "code",
   "execution_count": 8,
   "metadata": {
    "pycharm": {
     "name": "#%%\n"
    }
   },
   "outputs": [],
   "source": [
    "def generate_footstep_box_collection(footstep_locations: np.ndarray):\n",
    "    num_steps = footstep_locations.shape[0]\n",
    "    footstep_boxes = []\n",
    "    footstep_box_width = 0.1\n",
    "    footstep_box_height = 0.3\n",
    "    for i in range(num_steps):\n",
    "        footstep_box = mpatches.Rectangle(\n",
    "            (footstep_locations[i, 0] - (footstep_box_width/2), footstep_locations[i, 1] - (footstep_box_height/2)),\n",
    "            footstep_box_width, footstep_box_height)\n",
    "        footstep_boxes.append(footstep_box)\n",
    "    footstep_box_collection = PatchCollection(footstep_boxes, color='b', alpha=0.3)\n",
    "    return footstep_box_collection"
   ]
  },
  {
   "cell_type": "code",
   "execution_count": 9,
   "metadata": {
    "pycharm": {
     "name": "#%%\n"
    }
   },
   "outputs": [],
   "source": [
    "def main(step_length: float, step_width: float, num_steps: int, step_time: float) -> Tuple[np.ndarray, np.ndarray, np.ndarray]:\n",
    "    footsteps = generate_footsteps(num_steps, step_length, step_width)\n",
    "    dcm_keypoints = generate_dcm_reference(footsteps, omega, step_time)\n",
    "\n",
    "    delta_t = 0.01\n",
    "    t0 = 0.0\n",
    "    tf = 100.0\n",
    "    A_d, B_d = generate_system_matrices(omega, delta_t)\n",
    "\n",
    "    x0 = np.array([0.0, 0.0])\n",
    "    eta0 = dcm_keypoints[0]\n",
    "    state0 = np.hstack((x0, eta0))\n",
    "\n",
    "    # main loop\n",
    "    t = t0\n",
    "    state = state0\n",
    "    state_tape = state0\n",
    "    eta_d_tape = state0[2:]\n",
    "    control_tape = footsteps[0]\n",
    "    step_number = 0\n",
    "    inter_step_time = 0.0\n",
    "    while t < tf:\n",
    "        if t > (step_number + 1) * step_time:\n",
    "            step_number += 1\n",
    "            inter_step_time = 0.0\n",
    "        if step_number == num_steps-1:\n",
    "            break  # Exit condition\n",
    "        eta_d = footsteps[step_number] + np.exp(omega * (inter_step_time - step_time)) * (dcm_keypoints[step_number+1] - footsteps[step_number])\n",
    "        eta_d_tape = np.vstack((eta_d_tape, eta_d))\n",
    "        k = 1.0\n",
    "        eta = state[2:]\n",
    "        control = footsteps[step_number] + (1 + k/omega) * (eta - eta_d)\n",
    "        control_tape = np.vstack((control_tape, control))\n",
    "        state = A_d @ state + B_d @ control\n",
    "        state_tape = np.vstack((state_tape, state))\n",
    "        inter_step_time += delta_t\n",
    "        t += delta_t\n",
    "        \n",
    "    return footsteps, dcm_keypoints, state_tape"
   ]
  },
  {
   "cell_type": "code",
   "execution_count": 10,
   "metadata": {},
   "outputs": [],
   "source": [
    "def visualiser(footsteps: np.ndarray, dcm_keypoints: np.ndarray, state_tape: np.ndarray):\n",
    "    fig, ax = plt.subplots(1)\n",
    "    ax.grid()\n",
    "    ax.plot(footsteps[:, 0], footsteps[:, 1], 'ob')  # Footstep Locations\n",
    "    ax.add_collection(generate_footstep_box_collection(footsteps))  # Footstep prints\n",
    "    ax.plot(dcm_keypoints[:, 0], dcm_keypoints[:, 1], 'xr--')  # DCM keypoints\n",
    "    # Lines from DCM keypoints to footsteps\n",
    "    dcm_to_footstep_lines = interleave_rows(footsteps, dcm_keypoints)\n",
    "    for i in range(0, dcm_to_footstep_lines.shape[0]-1, 2):\n",
    "        ax.plot(dcm_to_footstep_lines[i:i+2, 0], dcm_to_footstep_lines[i:i+2, 1], ',k:')\n",
    "    ax.plot(state_tape[0, 1], state_tape[0, 1], 'xm')  # Initial CoM\n",
    "    ax.plot(state_tape[0, 2], state_tape[0, 3], '*g')  # Initial DCM\n",
    "    ax.plot(state_tape[:, 0], state_tape[:, 1], 'm')  # COM evolution\n",
    "    ax.plot(state_tape[:, 2], state_tape[:, 3], 'g')  # DCM evolution\n",
    "    # ax.plot(eta_d_tape[:, 0], eta_d_tape[:, 1], 'y')  # Desired DCM evolution\n",
    "    ax.set_xlim([-0.6, 0.6])\n",
    "#     ax.set_ylim([-0.5, 3.5])\n",
    "#     y_bottom, y_top = ax.get_ylim()\n",
    "#     ax.set_xlim([y_bottom - y_top, y_top - y_bottom])\n",
    "    ax.set_aspect('equal')\n",
    "    return fig, ax"
   ]
  },
  {
   "cell_type": "code",
   "execution_count": 11,
   "metadata": {},
   "outputs": [],
   "source": [
    "# Constants\n",
    "g = 9.81  # gravity\n",
    "zc = 0.8  # height of pelvis\n",
    "omega = np.sqrt(g / zc)"
   ]
  },
  {
   "cell_type": "code",
   "execution_count": 13,
   "metadata": {},
   "outputs": [
    {
     "data": {
      "application/vnd.jupyter.widget-view+json": {
       "model_id": "9dbea0247be34d4d9e203115e79a14fa",
       "version_major": 2,
       "version_minor": 0
      },
      "text/plain": [
       "interactive(children=(FloatSlider(value=0.4, continuous_update=False, description='step_length', max=0.6, min=…"
      ]
     },
     "metadata": {},
     "output_type": "display_data"
    },
    {
     "data": {
      "text/plain": [
       "<function __main__.update(step_length, step_width, num_steps, step_time)>"
      ]
     },
     "execution_count": 13,
     "metadata": {},
     "output_type": "execute_result"
    }
   ],
   "source": [
    "def update(step_length, step_width, num_steps, step_time):\n",
    "    footsteps, dcm_keypoints, state_tape = main(step_length, step_width, num_steps, step_time)\n",
    "    fig, ax = visualiser(footsteps, dcm_keypoints, state_tape)\n",
    "    fig.canvas.draw()\n",
    "    \n",
    "    \n",
    "interact(update, \n",
    "         step_length=FloatSlider(value=0.4, min=0.2, max=0.6, step=0.01, continuous_update=False),\n",
    "         step_width=FloatSlider(value=0.2, min=0.1, max=0.4, step=0.01, continuous_update=False),\n",
    "         num_steps=IntSlider(value=6, min=2, max=20, step=1, continuous_update=False),\n",
    "         step_time=FloatSlider(value=0.4, min=0.1, max=1.5, step=0.01, continuous_update=False))"
   ]
  },
  {
   "cell_type": "code",
   "execution_count": null,
   "metadata": {},
   "outputs": [],
   "source": []
  }
 ],
 "metadata": {
  "kernelspec": {
   "display_name": "Python 3 (ipykernel)",
   "language": "python",
   "name": "python3"
  },
  "language_info": {
   "codemirror_mode": {
    "name": "ipython",
    "version": 3
   },
   "file_extension": ".py",
   "mimetype": "text/x-python",
   "name": "python",
   "nbconvert_exporter": "python",
   "pygments_lexer": "ipython3",
   "version": "3.8.12"
  }
 },
 "nbformat": 4,
 "nbformat_minor": 1
}